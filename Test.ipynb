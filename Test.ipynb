{
 "cells": [
  {
   "cell_type": "markdown",
   "metadata": {},
   "source": [
    "## Написать функцию на Python\n",
    "\n",
    "Напиши функцию, которая удалит дубликаты в списке. Список не отсортирован. Необходимо сохранить порядок сортировки оригинального списка.\n",
    "\n",
    "Примеры:  \n",
    "[1, 2, 3, 1] → [1, 2, 3]  \n",
    "[1, 3, 2, 1, 5, 3, 5, 1, 4] → [1, 3, 2, 5, 4]"
   ]
  },
  {
   "cell_type": "code",
   "execution_count": 23,
   "metadata": {},
   "outputs": [
    {
     "name": "stdout",
     "output_type": "stream",
     "text": [
      "[1, 2, 3]\n",
      "[1, 3, 2, 5, 4]\n"
     ]
    }
   ],
   "source": [
    "firstlist = [1,2,3,1]\n",
    "secondlist = [1,3,2,1,5,3,5,1,4]\n",
    "\n",
    "def DropDubl(explist):\n",
    "    explist = list(dict.fromkeys(explist))\n",
    "    return explist\n",
    "\n",
    "print(DropDubl(firstlist))\n",
    "print(DropDubl(secondlist))"
   ]
  },
  {
   "cell_type": "markdown",
   "metadata": {},
   "source": [
    "Какая асимптотическая сложность у этой функций?\n",
    "\n",
    "Асимптотическая сложность - линейная. В данной функции мы проходимся по всем элементам, чем больше элементов, тем больше производится расчетов. "
   ]
  },
  {
   "cell_type": "markdown",
   "metadata": {},
   "source": [
    "# Написать SQL запрос\n",
    "\n",
    "Дана таблица employees всех сотрудников компании. Поля:  \n",
    "* full_name TEXT (PK),  \n",
    "* position TEXT,  \n",
    "* department TEXT.  \n",
    "\n",
    "Напиши запрос, выводящий все отделы, в которых меньше 5 разработчиков (position = 'Software Developer').\n"
   ]
  },
  {
   "cell_type": "markdown",
   "metadata": {},
   "source": [
    "SELECT department   \n",
    "FROM employees  \n",
    "WHERE position LIKE \"Software Developer\"  \n",
    "GROUP BY department  \n",
    "HAVING COUNT(*)<5  "
   ]
  },
  {
   "cell_type": "markdown",
   "metadata": {},
   "source": [
    "## Решить задачу\n",
    "\n",
    "Подкинули монету N раз. Кол-во случаев, когда выпал орёл, на 10% больше, чем кол-во случаев, когда выпала решка. При каком N мы можем сказать, что монета «нечестная» (орёл и решка выпадают с разной вероятностью)?\n"
   ]
  },
  {
   "cell_type": "markdown",
   "metadata": {},
   "source": [
    "10%=1/10    \n",
    "Значит, лишнее выпадение будет, когда решка уже выпадет 10 раз  \n",
    "N=21"
   ]
  },
  {
   "cell_type": "code",
   "execution_count": null,
   "metadata": {},
   "outputs": [],
   "source": []
  }
 ],
 "metadata": {
  "kernelspec": {
   "display_name": "Python 3",
   "language": "python",
   "name": "python3"
  },
  "language_info": {
   "codemirror_mode": {
    "name": "ipython",
    "version": 3
   },
   "file_extension": ".py",
   "mimetype": "text/x-python",
   "name": "python",
   "nbconvert_exporter": "python",
   "pygments_lexer": "ipython3",
   "version": "3.7.4"
  }
 },
 "nbformat": 4,
 "nbformat_minor": 2
}
